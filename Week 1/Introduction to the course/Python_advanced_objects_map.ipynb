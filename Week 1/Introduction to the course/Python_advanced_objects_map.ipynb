{
 "cells": [
  {
   "cell_type": "markdown",
   "metadata": {},
   "source": [
    "### Python: Advanced objects and map()"
   ]
  },
  {
   "cell_type": "code",
   "execution_count": null,
   "metadata": {},
   "outputs": [],
   "source": [
    "class Person:\n",
    "    department = \"Systems and computing engineering\"\n",
    "\n",
    "    def setName(self, newName):\n",
    "        self.name = newName\n",
    "    \n",
    "    def setLocation(self,newLocation):\n",
    "        self.location = newLocation"
   ]
  }
 ],
 "metadata": {
  "kernelspec": {
   "display_name": "Python 3",
   "language": "python",
   "name": "python3"
  },
  "language_info": {
   "name": "python",
   "version": "3.11.2"
  }
 },
 "nbformat": 4,
 "nbformat_minor": 2
}
